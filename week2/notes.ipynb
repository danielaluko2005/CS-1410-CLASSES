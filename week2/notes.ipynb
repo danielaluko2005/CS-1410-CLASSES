{
 "cells": [
  {
   "cell_type": "markdown",
   "metadata": {},
   "source": [
    "`Camel Case`---`firstName`\n",
    "\n",
    "`Statement` is terminated with a semicolon `;`.\n",
    "\n",
    "`An EXPRESSION` is anything that has a value. E.g-- {\n",
    "\n",
    "`int x=12;`\n",
    "\n",
    "`cout<< x;`\n",
    "\n",
    "`cout<<x+10;` \n",
    "}"
   ]
  }
 ],
 "metadata": {
  "language_info": {
   "name": "python"
  },
  "orig_nbformat": 4
 },
 "nbformat": 4,
 "nbformat_minor": 2
}
