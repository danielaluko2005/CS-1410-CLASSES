{
 "cells": [
  {
   "cell_type": "markdown",
   "metadata": {},
   "source": [
    "`variable= (condition) ?expressionTrue:expressionFalse; `"
   ]
  }
 ],
 "metadata": {
  "language_info": {
   "name": "python"
  },
  "orig_nbformat": 4
 },
 "nbformat": 4,
 "nbformat_minor": 2
}
