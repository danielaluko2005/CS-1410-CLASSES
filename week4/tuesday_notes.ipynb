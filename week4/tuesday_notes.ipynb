{
 "cells": [
  {
   "cell_type": "markdown",
   "metadata": {},
   "source": [
    "`Centinal value` IS THE VALUE THAY WHEN ENTERED IT VAUSES A LOOP TO BREAK. \n",
    "\n",
    "THIS IS USED IN A `WHILE LOOP` WHEN X MUST BE ENTERED BEFORE THE LOOP IS EXITED."
   ]
  }
 ],
 "metadata": {
  "language_info": {
   "name": "python"
  },
  "orig_nbformat": 4
 },
 "nbformat": 4,
 "nbformat_minor": 2
}
